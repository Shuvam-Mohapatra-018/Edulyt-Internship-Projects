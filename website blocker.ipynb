{
 "cells": [
  {
   "cell_type": "markdown",
   "metadata": {},
   "source": [
    "PROJECT 1 : WEBSITE BLOCKER \n",
    "    by Sankalpa Hota\n",
    "    ID : EI0196"
   ]
  },
  {
   "cell_type": "markdown",
   "metadata": {},
   "source": [
    "\"\"\"RUN THIS CODE IN PYTHON AND SET YOUR OWN PATH\"\"\"\n",
    "\n",
    "\n",
    "\"\"\"MAKE A COPY OF HOSTFILE FOR THIS PROJECT\"\"\""
   ]
  },
  {
   "cell_type": "markdown",
   "metadata": {},
   "source": [
    "\n",
    "1)After Code is over follow these guidelines(save code as .pyw file):\n",
    "    \n",
    "2)Go to task scheduler and set new task,go to trigger and choose startup,\n",
    "\n",
    "3)Go to action and give path to file,\n",
    "\n",
    "4)Go to Condition and uncheck the Power option,\n",
    "\n",
    "5)If you have problem running the code(for permission) then run as admin or try running the program from admin Command prompt."
   ]
  },
  {
   "cell_type": "code",
   "execution_count": null,
   "metadata": {},
   "outputs": [],
   "source": [
    "\n",
    "import time \n",
    "from datetime import datetime as dt\n",
    "# hosts path according to your OS\n",
    "hosts_path = \"C:\\Windows\\System32\\drivers\\etc\\hosts\"\n",
    "#REDIRECT\n",
    "redirect = \"127.0.0.1\"\n",
    "  \n",
    "# block website\n",
    "website_list = [\"www.facebook.com\",\"facebook.com\",\"www.instagram.com\",\"instagram.com\",\"www.youtube.com\",\"youtube.com\", \"www.gmail.com\",\"gmail.com\"] \n",
    "  \n",
    "while True: \n",
    "  \n",
    "    # time of your work \n",
    "    if dt(dt.now().year, dt.now().month, dt.now().day,10)< dt.now() < dt(dt.now().year, dt.now().month, dt.now().day,18): \n",
    "        print(\"The Websites are blocked @ 10 AM -5 PM\") \n",
    "        with open(hosts_path, 'r+') as file: \n",
    "            content = file.read() \n",
    "            for website in website_list: \n",
    "                if website in content: \n",
    "                    pass\n",
    "                else: \n",
    "                    # mapping hostnames to your localhost address \n",
    "                    file.write(redirect + \" \" + website + \"\\n\") \n",
    "    else: \n",
    "        with open(hosts_path, 'r+') as file: \n",
    "            content=file.readlines() \n",
    "            file.seek(0) \n",
    "            for line in content: \n",
    "                if not any(website in line for website in website_list): \n",
    "                    file.write(line) \n",
    "  \n",
    "            # removing hostnmes from host file \n",
    "            file.truncate() \n",
    "  \n",
    "        print(\"WEBSITE CAN BE ACCESSED\") \n",
    "    time.sleep(30) \n"
   ]
  }
 ],
 "metadata": {
  "kernelspec": {
   "display_name": "Python 3",
   "language": "python",
   "name": "python3"
  },
  "language_info": {
   "codemirror_mode": {
    "name": "ipython",
    "version": 3
   },
   "file_extension": ".py",
   "mimetype": "text/x-python",
   "name": "python",
   "nbconvert_exporter": "python",
   "pygments_lexer": "ipython3",
   "version": "3.7.3"
  }
 },
 "nbformat": 4,
 "nbformat_minor": 2
}
