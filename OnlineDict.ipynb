{
 "cells": [
  {
   "cell_type": "markdown",
   "metadata": {},
   "source": [
    "# PROJECT ON ONLINE DICTIONARY \n",
    "\n",
    "## By Shuvam Mohapatra\n"
   ]
  },
  {
   "cell_type": "code",
   "execution_count": null,
   "metadata": {},
   "outputs": [],
   "source": [
    "import json\n",
    "from difflib import get_close_matches\n",
    "#library for json operations \n",
    "word =input(\"Enter word to search: \") #Input word to search dictionary\n",
    "wrd=word.lower()\n",
    "print (\"Word: \",word) \n",
    "file = open('data.json') \n",
    "result = json.load(file)\n",
    "new_dict = dict((k.lower(), v) for k, v in result.items()) \n",
    "reg=new_dict.keys()\n",
    "if wrd in reg:\n",
    "    print(new_dict[wrd])\n",
    "else:\n",
    "    print(\"Sorry,meaning of  \"+word+\" is not available\") "
   ]
  },
  {
   "cell_type": "markdown",
   "metadata": {},
   "source": [
    "## INCASE WORD IS NOT THERE IN THE DICTIONARY :\n",
    "\n",
    "## we use get_close_matches to obtain similar words "
   ]
  },
  {
   "cell_type": "code",
   "execution_count": null,
   "metadata": {},
   "outputs": [],
   "source": [
    "if len(get_close_matches(word,new_dict.keys()))>0:\n",
    "    similar=get_close_matches(word,new_dict.keys())\n",
    "    print(similar)"
   ]
  },
  {
   "cell_type": "code",
   "execution_count": null,
   "metadata": {},
   "outputs": [],
   "source": [
    "for i in range(1,len(similar)):\n",
    "    close=get_close_matches(word,new_dict.keys())[i-1]\n",
    "    print('Are you trying to find meaning of',close,'If yes type y else type n')\n",
    "    answer=input('Enter Choice:').lower()\n",
    "    if answer=='y' or 'Y':\n",
    "        print(new_dict[close])\n",
    "        break\n",
    "    elif answer=='n' or 'N':\n",
    "        continue\n"
   ]
  }
 ],
 "metadata": {
  "kernelspec": {
   "display_name": "Python 3",
   "language": "python",
   "name": "python3"
  },
  "language_info": {
   "codemirror_mode": {
    "name": "ipython",
    "version": 3
   },
   "file_extension": ".py",
   "mimetype": "text/x-python",
   "name": "python",
   "nbconvert_exporter": "python",
   "pygments_lexer": "ipython3",
   "version": "3.9.1"
  }
 },
 "nbformat": 4,
 "nbformat_minor": 2
}
